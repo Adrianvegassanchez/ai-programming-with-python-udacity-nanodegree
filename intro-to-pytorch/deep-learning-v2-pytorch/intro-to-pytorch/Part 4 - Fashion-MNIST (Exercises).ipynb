{
 "cells": [
  {
   "cell_type": "markdown",
   "metadata": {},
   "source": [
    "# Classifying Fashion-MNIST\n",
    "\n",
    "Now it's your turn to build and train a neural network. You'll be using the [Fashion-MNIST dataset](https://github.com/zalandoresearch/fashion-mnist), a drop-in replacement for the MNIST dataset. MNIST is actually quite trivial with neural networks where you can easily achieve better than 97% accuracy. Fashion-MNIST is a set of 28x28 greyscale images of clothes. It's more complex than MNIST, so it's a better representation of the actual performance of your network, and a better representation of datasets you'll use in the real world.\n",
    "\n",
    "<img src='assets/fashion-mnist-sprite.png' width=500px>\n",
    "\n",
    "In this notebook, you'll build your own neural network. For the most part, you could just copy and paste the code from Part 3, but you wouldn't be learning. It's important for you to write the code yourself and get it to work. Feel free to consult the previous notebooks though as you work through this.\n",
    "\n",
    "First off, let's load the dataset through torchvision."
   ]
  },
  {
   "cell_type": "code",
   "execution_count": 1,
   "metadata": {},
   "outputs": [
    {
     "name": "stderr",
     "output_type": "stream",
     "text": "0%|          | 0/26421880 [00:00<?, ?it/s]Downloading http://fashion-mnist.s3-website.eu-central-1.amazonaws.com/train-images-idx3-ubyte.gz to /Users/adrian.vegas/.pytorch/F_MNIST_data/FashionMNIST/raw/train-images-idx3-ubyte.gz\n26427392it [00:01, 22763864.10it/s]\nExtracting /Users/adrian.vegas/.pytorch/F_MNIST_data/FashionMNIST/raw/train-images-idx3-ubyte.gz to /Users/adrian.vegas/.pytorch/F_MNIST_data/FashionMNIST/raw\n32768it [00:00, 293251.27it/s]\n0it [00:00, ?it/s]Downloading http://fashion-mnist.s3-website.eu-central-1.amazonaws.com/train-labels-idx1-ubyte.gz to /Users/adrian.vegas/.pytorch/F_MNIST_data/FashionMNIST/raw/train-labels-idx1-ubyte.gz\nExtracting /Users/adrian.vegas/.pytorch/F_MNIST_data/FashionMNIST/raw/train-labels-idx1-ubyte.gz to /Users/adrian.vegas/.pytorch/F_MNIST_data/FashionMNIST/raw\nDownloading http://fashion-mnist.s3-website.eu-central-1.amazonaws.com/t10k-images-idx3-ubyte.gz to /Users/adrian.vegas/.pytorch/F_MNIST_data/FashionMNIST/raw/t10k-images-idx3-ubyte.gz\n4423680it [00:00, 10588819.36it/s]\n0it [00:00, ?it/s]Extracting /Users/adrian.vegas/.pytorch/F_MNIST_data/FashionMNIST/raw/t10k-images-idx3-ubyte.gz to /Users/adrian.vegas/.pytorch/F_MNIST_data/FashionMNIST/raw\nDownloading http://fashion-mnist.s3-website.eu-central-1.amazonaws.com/t10k-labels-idx1-ubyte.gz to /Users/adrian.vegas/.pytorch/F_MNIST_data/FashionMNIST/raw/t10k-labels-idx1-ubyte.gz\n8192it [00:00, 94988.56it/s]\nExtracting /Users/adrian.vegas/.pytorch/F_MNIST_data/FashionMNIST/raw/t10k-labels-idx1-ubyte.gz to /Users/adrian.vegas/.pytorch/F_MNIST_data/FashionMNIST/raw\nProcessing...\nDone!\n"
    }
   ],
   "source": [
    "import torch\n",
    "from torchvision import datasets, transforms\n",
    "import helper\n",
    "\n",
    "# Define a transform to normalize the data\n",
    "transform = transforms.Compose([transforms.ToTensor(),\n",
    "                                transforms.Normalize((0.5,), (0.5,))])\n",
    "# Download and load the training data\n",
    "trainset = datasets.FashionMNIST('~/.pytorch/F_MNIST_data/', download=True, train=True, transform=transform)\n",
    "trainloader = torch.utils.data.DataLoader(trainset, batch_size=64, shuffle=True)\n",
    "\n",
    "# Download and load the test data\n",
    "testset = datasets.FashionMNIST('~/.pytorch/F_MNIST_data/', download=True, train=False, transform=transform)\n",
    "testloader = torch.utils.data.DataLoader(testset, batch_size=64, shuffle=True)"
   ]
  },
  {
   "cell_type": "markdown",
   "metadata": {},
   "source": [
    "Here we can see one of the images."
   ]
  },
  {
   "cell_type": "code",
   "execution_count": 2,
   "metadata": {},
   "outputs": [
    {
     "data": {
      "image/png": "[encoded data removed]",
      "image/svg+xml": "<?xml version=\"1.0\" encoding=\"utf-8\" standalone=\"no\"?>\n<!DOCTYPE svg PUBLIC \"-//W3C//DTD SVG 1.1//EN\"\n  \"http://www.w3.org/Graphics/SVG/1.1/DTD/svg11.dtd\">\n<!-- Created with matplotlib (https://matplotlib.org/) -->\n<svg height=\"231.84pt\" version=\"1.1\" viewBox=\"0 0 231.84 231.84\" width=\"231.84pt\" xmlns=\"http://www.w3.org/2000/svg\" xmlns:xlink=\"http://www.w3.org/1999/xlink\">\n <defs>\n  <style type=\"text/css\">\n*{stroke-linecap:butt;stroke-linejoin:round;}\n  </style>\n </defs>\n <g id=\"figure_1\">\n  <g id=\"patch_1\">\n   <path d=\"M 0 231.84 \nL 231.84 231.84 \nL 231.84 0 \nL 0 0 \nz\n\" style=\"fill:none;\"/>\n  </g>\n  <g id=\"axes_1\">\n   <g id=\"patch_2\">\n    <path d=\"M 7.2 224.64 \nL 224.64 224.64 \nL 224.64 7.2 \nL 7.2 7.2 \nz\n\" style=\"fill:#ffffff;\"/>\n   </g>\n   <g clip-path=\"url(#pd92959189e)\">\n    <image height=\"218\" id=\"image1ec436ade0\" transform=\"scale(1 -1)translate(0 -218)\" width=\"218\" x=\"7.2\" xlink:href=\"data:image/png;base64,\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\" y=\"-6.64\"/>\n   </g>\n   <g id=\"matplotlib.axis_1\">\n    <g id=\"xtick_1\">\n     <g id=\"line2d_1\"/>\n    </g>\n    <g id=\"xtick_2\">\n     <g id=\"line2d_2\"/>\n    </g>\n    <g id=\"xtick_3\">\n     <g id=\"line2d_3\"/>\n    </g>\n    <g id=\"xtick_4\">\n     <g id=\"line2d_4\"/>\n    </g>\n    <g id=\"xtick_5\">\n     <g id=\"line2d_5\"/>\n    </g>\n    <g id=\"xtick_6\">\n     <g id=\"line2d_6\"/>\n    </g>\n   </g>\n   <g id=\"matplotlib.axis_2\">\n    <g id=\"ytick_1\">\n     <g id=\"line2d_7\"/>\n    </g>\n    <g id=\"ytick_2\">\n     <g id=\"line2d_8\"/>\n    </g>\n    <g id=\"ytick_3\">\n     <g id=\"line2d_9\"/>\n    </g>\n    <g id=\"ytick_4\">\n     <g id=\"line2d_10\"/>\n    </g>\n    <g id=\"ytick_5\">\n     <g id=\"line2d_11\"/>\n    </g>\n    <g id=\"ytick_6\">\n     <g id=\"line2d_12\"/>\n    </g>\n   </g>\n  </g>\n </g>\n <defs>\n  <clipPath id=\"pd92959189e\">\n   <rect height=\"217.44\" width=\"217.44\" x=\"7.2\" y=\"7.2\"/>\n  </clipPath>\n </defs>\n</svg>\n",
      "text/plain": "<Figure size 432x288 with 1 Axes>"
     },
     "metadata": {
      "needs_background": "light"
     },
     "output_type": "display_data"
    }
   ],
   "source": [
    "image, label = next(iter(trainloader))\n",
    "helper.imshow(image[0,:]);"
   ]
  },
  {
   "cell_type": "markdown",
   "metadata": {},
   "source": [
    "## Building the network\n",
    "\n",
    "Here you should define your network. As with MNIST, each image is 28x28 which is a total of 784 pixels, and there are 10 classes. You should include at least one hidden layer. We suggest you use ReLU activations for the layers and to return the logits or log-softmax from the forward pass. It's up to you how many layers you add and the size of those layers."
   ]
  },
  {
   "cell_type": "code",
   "execution_count": 5,
   "metadata": {},
   "outputs": [],
   "source": [
    "# TODO: Define your network architecture here\n",
    "from torch import nn, optim\n",
    "import torch.nn.functional as F\n",
    "\n",
    "class Classifier(nn.Module):\n",
    "    def __init__(self):\n",
    "        super().__init__()\n",
    "        self.fc1 = nn.Linear(784, 256)\n",
    "        self.fc2 = nn.Linear(256, 128)\n",
    "        self.fc3 = nn.Linear(128, 64)\n",
    "        self.fc4 = nn.Linear(64, 10)\n",
    "        \n",
    "    def forward(self, x):\n",
    "        # make sure input tensor is flattened\n",
    "        x = x.view(x.shape[0], -1)\n",
    "        \n",
    "        x = F.relu(self.fc1(x))\n",
    "        x = F.relu(self.fc2(x))\n",
    "        x = F.relu(self.fc3(x))\n",
    "        x = F.log_softmax(self.fc4(x), dim=1)\n",
    "        \n",
    "        return x\n"
   ]
  },
  {
   "cell_type": "markdown",
   "metadata": {},
   "source": [
    "# Train the network\n",
    "\n",
    "Now you should create your network and train it. First you'll want to define [the criterion](http://pytorch.org/docs/master/nn.html#loss-functions) ( something like `nn.CrossEntropyLoss`) and [the optimizer](http://pytorch.org/docs/master/optim.html) (typically `optim.SGD` or `optim.Adam`).\n",
    "\n",
    "Then write the training code. Remember the training pass is a fairly straightforward process:\n",
    "\n",
    "* Make a forward pass through the network to get the logits \n",
    "* Use the logits to calculate the loss\n",
    "* Perform a backward pass through the network with `loss.backward()` to calculate the gradients\n",
    "* Take a step with the optimizer to update the weights\n",
    "\n",
    "By adjusting the hyperparameters (hidden units, learning rate, etc), you should be able to get the training loss below 0.4."
   ]
  },
  {
   "cell_type": "code",
   "execution_count": 6,
   "metadata": {},
   "outputs": [],
   "source": [
    "# TODO: Create the network, define the criterion and optimizer\n",
    "model = Classifier()\n",
    "criterion = nn.NLLLoss()\n",
    "optimizer = optim.Adam(model.parameters(), lr=0.003)"
   ]
  },
  {
   "cell_type": "code",
   "execution_count": 7,
   "metadata": {},
   "outputs": [
    {
     "name": "stdout",
     "output_type": "stream",
     "text": "Training loss: 0.514803187155139\nTraining loss: 0.39367718637180227\nTraining loss: 0.35657359176734366\nTraining loss: 0.3329607090557308\nTraining loss: 0.3155712679679841\n"
    }
   ],
   "source": [
    "# TODO: Train the network here\n",
    "epochs = 5\n",
    "for e in range(epochs):\n",
    "    running_loss = 0\n",
    "    for images, labels in trainloader:\n",
    "        log_ps = model(images)\n",
    "        loss = criterion(log_ps, labels)\n",
    "        \n",
    "        optimizer.zero_grad()\n",
    "        loss.backward()\n",
    "        optimizer.step()\n",
    "        \n",
    "        running_loss += loss.item()\n",
    "    else:\n",
    "        print(f\"Training loss: {running_loss/len(trainloader)}\")"
   ]
  },
  {
   "cell_type": "code",
   "execution_count": null,
   "metadata": {},
   "outputs": [],
   "source": [
    "%matplotlib inline\n",
    "%config InlineBackend.figure_format = 'retina'\n",
    "\n",
    "import helper\n",
    "\n",
    "# Test out your network!\n",
    "\n",
    "dataiter = iter(testloader)\n",
    "images, labels = dataiter.next()\n",
    "img = images[0]\n",
    "# Convert 2D image to 1D vector\n",
    "img = img.resize_(1, 784)\n",
    "\n",
    "# TODO: Calculate the class probabilities (softmax) for img\n",
    "ps = \n",
    "\n",
    "# Plot the image and probabilities\n",
    "helper.view_classify(img.resize_(1, 28, 28), ps, version='Fashion')"
   ]
  },
  {
   "cell_type": "code",
   "execution_count": 8,
   "metadata": {},
   "outputs": [
    {
     "data": {
      "image/png": "[encoded data removed]",
      "text/plain": "<Figure size 432x648 with 2 Axes>"
     },
     "metadata": {
      "image/png": {
       "height": 216,
       "width": 424
      },
      "needs_background": "light"
     },
     "output_type": "display_data"
    }
   ],
   "source": [
    "%matplotlib inline\n",
    "%config InlineBackend.figure_format = 'retina'\n",
    "\n",
    "import helper\n",
    "\n",
    "# Test out your network!\n",
    "\n",
    "dataiter = iter(testloader)\n",
    "images, labels = dataiter.next()\n",
    "img = images[1]\n",
    "\n",
    "# TODO: Calculate the class probabilities (softmax) for img\n",
    "ps = torch.exp(model(img))\n",
    "\n",
    "# Plot the image and probabilities\n",
    "helper.view_classify(img, ps, version='Fashion')"
   ]
  },
  {
   "cell_type": "code",
   "execution_count": null,
   "metadata": {},
   "outputs": [],
   "source": []
  }
 ],
 "metadata": {
  "kernelspec": {
   "display_name": "Python 3",
   "language": "python",
   "name": "python3"
  },
  "language_info": {
   "codemirror_mode": {
    "name": "ipython",
    "version": 3
   },
   "file_extension": ".py",
   "mimetype": "text/x-python",
   "name": "python",
   "nbconvert_exporter": "python",
   "pygments_lexer": "ipython3",
   "version": "3.7.4-final"
  }
 },
 "nbformat": 4,
 "nbformat_minor": 2
}